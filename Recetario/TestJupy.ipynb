{
 "cells": [
  {
   "cell_type": "code",
   "execution_count": 215,
   "metadata": {},
   "outputs": [
    {
     "data": {
      "text/plain": [
       "id\n",
       "10              Ensalada polluda\n",
       "11                   Pollo frito\n",
       "12       Pez espada a la plancha\n",
       "13           Tortilla de patatas\n",
       "17                   Tortillitas\n",
       "18            Montaditos de lomo\n",
       "19               Ensalada Simone\n",
       "20    Chuletas al vino de Málaga\n",
       "21              Dorada a la sal.\n",
       "22          Merluza a la plancha\n",
       "Name: name, dtype: object"
      ]
     },
     "execution_count": 215,
     "metadata": {},
     "output_type": "execute_result"
    }
   ],
   "source": [
    "import pandas as pd\n",
    "df_rec = pd.read_csv('recipes.csv', index_col=\"id\")\n",
    "df_ing = pd.read_csv('ingredients.csv', index_col=\"id\")\n",
    "df_itr = pd.read_csv('ingredients_recipes.csv')\n",
    "df_rec[\"name\"].head(10)"
   ]
  },
  {
   "cell_type": "code",
   "execution_count": 216,
   "id": "714132fa",
   "metadata": {},
   "outputs": [
    {
     "data": {
      "text/plain": [
       "id\n",
       "6              manzanas\n",
       "7                 peras\n",
       "8               rabanos\n",
       "10        queso ibérico\n",
       "25    untable roquefort\n",
       "28           salchichas\n",
       "30              patatas\n",
       "31             cebollas\n",
       "34              tomates\n",
       "41              helados\n",
       "Name: name, dtype: object"
      ]
     },
     "execution_count": 216,
     "metadata": {},
     "output_type": "execute_result"
    }
   ],
   "source": [
    "df_ing[\"name\"].head(10)"
   ]
  },
  {
   "cell_type": "code",
   "execution_count": 217,
   "id": "8f005875",
   "metadata": {},
   "outputs": [
    {
     "data": {
      "text/plain": [
       "['calamares', 'tomates cherry', 'arroz basmati']"
      ]
     },
     "execution_count": 217,
     "metadata": {},
     "output_type": "execute_result"
    }
   ],
   "source": [
    "void = []\n",
    "xd = df_rec[df_rec[\"name\"].str.contains(\"pollo\")].head(1)\n",
    "xd = list(xd.index.values)\n",
    "a = df_itr[df_itr[\"recipe_id\"] == xd[0]]\n",
    "xd = list(a.ingredient_id.values)\n",
    "for i in range(len(xd)):\n",
    "    exo = df_ing.iloc[xd[i]]['name']\n",
    "    void.append(exo)\n",
    "void"
   ]
  },
  {
   "cell_type": "code",
   "execution_count": 218,
   "id": "5947e4d2",
   "metadata": {},
   "outputs": [
    {
     "data": {
      "text/plain": [
       "'Filetes pollo a la plancha'"
      ]
     },
     "execution_count": 218,
     "metadata": {},
     "output_type": "execute_result"
    }
   ],
   "source": [
    "resultado_fil = df_rec[df_rec[\"name\"].str.contains(\"pollo\")].head(1)\n",
    "resultado_fil = resultado_fil.loc[39]['name']\n",
    "resultado_fil"
   ]
  }
 ],
 "metadata": {
  "kernelspec": {
   "display_name": "Python 3",
   "language": "python",
   "name": "python3"
  },
  "language_info": {
   "codemirror_mode": {
    "name": "ipython",
    "version": 3
   },
   "file_extension": ".py",
   "mimetype": "text/x-python",
   "name": "python",
   "nbconvert_exporter": "python",
   "pygments_lexer": "ipython3",
   "version": "3.11.1"
  },
  "vscode": {
   "interpreter": {
    "hash": "5238573367df39f7286bb46f9ff5f08f63a01a80960060ce41e3c79b190280fa"
   }
  }
 },
 "nbformat": 4,
 "nbformat_minor": 5
}
