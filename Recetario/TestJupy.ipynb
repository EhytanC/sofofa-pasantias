{
 "cells": [
  {
   "cell_type": "code",
   "execution_count": null,
   "metadata": {},
   "outputs": [],
   "source": [
    "import pandas as pd\n",
    "df_rec = pd.read_csv('db/recipes.csv', index_col=\"id\")\n",
    "df_ing = pd.read_csv('db/ingredients.csv', index_col=\"id\")\n",
    "df_itr = pd.read_csv('db/ingredients_recipes.csv')\n",
    "df_rec[\"name\"].head(10)"
   ]
  },
  {
   "cell_type": "code",
   "execution_count": 19,
   "id": "183cdfd4",
   "metadata": {},
   "outputs": [
    {
     "data": {
      "text/plain": [
       "[]"
      ]
     },
     "execution_count": 19,
     "metadata": {},
     "output_type": "execute_result"
    }
   ],
   "source": [
    "varId = df_itr[df_itr[\"recipe_id\"] == 1]\n",
    "varId = list(varId.ingredient_id.values)\n",
    "varId"
   ]
  },
  {
   "cell_type": "code",
   "execution_count": 18,
   "id": "714132fa",
   "metadata": {},
   "outputs": [
    {
     "data": {
      "text/plain": [
       "['pollo - filetes', 'oregano', 'tomillo']"
      ]
     },
     "execution_count": 18,
     "metadata": {},
     "output_type": "execute_result"
    }
   ],
   "source": [
    "allIng=[]\n",
    "varId = df_itr[df_itr[\"recipe_id\"] == 39]\n",
    "varId = list(varId.ingredient_id.values)\n",
    "   \n",
    "for i in range(len(varId)):\n",
    "    ingredientes = df_ing.loc[varId[i]]['name']\n",
    "    allIng.append(ingredientes)\n",
    "allIng"
   ]
  }
 ],
 "metadata": {
  "kernelspec": {
   "display_name": "Python 3",
   "language": "python",
   "name": "python3"
  },
  "language_info": {
   "codemirror_mode": {
    "name": "ipython",
    "version": 3
   },
   "file_extension": ".py",
   "mimetype": "text/x-python",
   "name": "python",
   "nbconvert_exporter": "python",
   "pygments_lexer": "ipython3",
   "version": "3.11.1"
  },
  "vscode": {
   "interpreter": {
    "hash": "5238573367df39f7286bb46f9ff5f08f63a01a80960060ce41e3c79b190280fa"
   }
  }
 },
 "nbformat": 4,
 "nbformat_minor": 5
}
